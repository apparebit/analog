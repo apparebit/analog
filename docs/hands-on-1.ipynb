{
 "cells": [
  {
   "cell_type": "markdown",
   "metadata": {},
   "source": [
    "# Analog: Ana(lyzing) Log(s)\n",
    "\n",
    "I wrote [analog](https://github.com/apparebit/analog) to scratch an itch,\n",
    "analyzing the access logs for my personal website\n",
    "[apparebit.com](https://apparebit.com). This notebook chronicles the first\n",
    "several forays into the data. But the presentation is idealized, since notebook\n",
    "and analog both changed quite a bit as a result of these forays."
   ]
  },
  {
   "cell_type": "markdown",
   "metadata": {},
   "source": [
    "## 1. Preliminaries\n",
    "\n",
    "We get started by importing analog."
   ]
  },
  {
   "cell_type": "code",
   "execution_count": 1,
   "metadata": {},
   "outputs": [],
   "source": [
    "# import analog\n",
    "import os\n",
    "import os.path\n",
    "import sys\n",
    "\n",
    "import numpy as np\n",
    "import pandas as pd\n",
    "\n",
    "# Make package accessible by injecting repository root into Python package path\n",
    "root, docs = os.path.split(os.getcwd())\n",
    "assert docs == 'docs' and os.path.basename(root) == 'analog'\n",
    "sys.path.insert(0, root)\n",
    "\n",
    "import analog"
   ]
  },
  {
   "cell_type": "markdown",
   "metadata": {},
   "source": [
    "### 1.1 The Log Data\n",
    "\n",
    "Next, we load the log data. `analog.latest()` parses, enriches, and combines\n",
    "monthly logs as needed. `analog.validate()` checks that the dataframe has the\n",
    "expected columns with the expected types, does not contain null values in\n",
    "non-null columns, and that columns with correlated null values in fact observe\n",
    "those correlations."
   ]
  },
  {
   "cell_type": "code",
   "execution_count": 2,
   "metadata": {},
   "outputs": [
    {
     "name": "stderr",
     "output_type": "stream",
     "text": [
      "[INFO] Load existing log frame '/Users/rgrimm/Work/analog/data/apparebit.com-2018-07-2022-07.parquet'\n"
     ]
    },
    {
     "name": "stdout",
     "output_type": "stream",
     "text": [
      "<class 'pandas.core.frame.DataFrame'>\n",
      "RangeIndex: 227553 entries, 0 to 227552\n",
      "Data columns (total 36 columns):\n",
      " #   Column             Non-Null Count   Dtype              \n",
      "---  ------             --------------   -----              \n",
      " 0   client_address     227553 non-null  string             \n",
      " 1   timestamp          227553 non-null  datetime64[ns, UTC]\n",
      " 2   method             227553 non-null  category           \n",
      " 3   path               227553 non-null  string             \n",
      " 4   query              3226 non-null    string             \n",
      " 5   fragment           0 non-null       string             \n",
      " 6   protocol           227553 non-null  category           \n",
      " 7   status             227553 non-null  int16              \n",
      " 8   size               227553 non-null  int32              \n",
      " 9   referrer           100860 non-null  string             \n",
      " 10  user_agent         224065 non-null  string             \n",
      " 11  server_name        202518 non-null  string             \n",
      " 12  server_address     202518 non-null  string             \n",
      " 13  content_type       227553 non-null  category           \n",
      " 14  cool_path          227553 non-null  string             \n",
      " 15  referrer_scheme    98419 non-null   category           \n",
      " 16  referrer_host      98419 non-null   string             \n",
      " 17  referrer_path      94433 non-null   string             \n",
      " 18  referrer_query     16062 non-null   string             \n",
      " 19  referrer_fragment  16 non-null      string             \n",
      " 20  status_class       227553 non-null  category           \n",
      " 21  client_name        173293 non-null  string             \n",
      " 22  client_latitude    227515 non-null  float64            \n",
      " 23  client_longitude   227515 non-null  float64            \n",
      " 24  client_city        134389 non-null  string             \n",
      " 25  client_country     227441 non-null  string             \n",
      " 26  agent_family       224065 non-null  string             \n",
      " 27  agent_version      224065 non-null  string             \n",
      " 28  os_family          224065 non-null  string             \n",
      " 29  os_version         224065 non-null  string             \n",
      " 30  device_family      224065 non-null  string             \n",
      " 31  device_brand       224065 non-null  string             \n",
      " 32  device_model       224065 non-null  string             \n",
      " 33  is_bot             227553 non-null  bool               \n",
      " 34  bot_category       227553 non-null  category           \n",
      " 35  is_bot2            227553 non-null  bool               \n",
      "dtypes: bool(2), category(6), datetime64[ns, UTC](1), float64(2), int16(1), int32(1), string(23)\n",
      "memory usage: 48.2 MB\n"
     ]
    }
   ],
   "source": [
    "df = analog.latest(os.path.join(root, 'data'))\n",
    "df.info(verbose=True, memory_usage=True)\n",
    "analog.validate(df)"
   ]
  },
  {
   "cell_type": "markdown",
   "metadata": {},
   "source": [
    "The 36 columns listed above comprise three kinds of data:\n",
    "\n",
    "  * `client_address` through `server_address` are parsed from access log;\n",
    "  * `content_type` through `status_class` are derived from primary data;\n",
    "  * `client_name` through `is_bot2` are extracted from databases."
   ]
  },
  {
   "cell_type": "markdown",
   "metadata": {},
   "source": [
    "### 1.2 Two Sources of Truth for Bots\n",
    "\n",
    "Analog uses two different projects' regular expressions for classifying user\n",
    "agents as bots:\n",
    "\n",
    " 1. `agent_family` through `is_bot` are filled in with\n",
    "    [ua-parser](https://github.com/ua-parser).\n",
    " 2. `bot_category` and `is_bot2` are filled in with\n",
    "    [matomo](https://github.com/matomo-org/device-detector).\n",
    "    \n",
    "We need both:"
   ]
  },
  {
   "cell_type": "code",
   "execution_count": 3,
   "metadata": {},
   "outputs": [
    {
     "name": "stdout",
     "output_type": "stream",
     "text": [
      "all requests        : 227,553 requests from 5,061 user agents\n",
      "ua-parser or matomo :  80,561 requests from   587 user agents\n",
      "ua-parser only      :  69,325 requests from   421 user agents\n",
      "matomo only         :  63,736 requests from   516 user agents\n"
     ]
    }
   ],
   "source": [
    "def requests_per_agent(label, data):\n",
    "    with analog.fresh_counts() as rows:\n",
    "        data.count_rows().unique_values('user_agent').count_rows()\n",
    "        print(f'{label:<20}: {rows[0]:7,} requests from {rows[1]:5,} user agents')\n",
    "\n",
    "log = analog.analyze(df)\n",
    "requests_per_agent('all requests', log)\n",
    "requests_per_agent('ua-parser or matomo', log.only.bots())\n",
    "requests_per_agent('ua-parser only', log.only.equals('is_bot', True))\n",
    "requests_per_agent('matomo only', log.only.equals('is_bot2', True))"
   ]
  },
  {
   "cell_type": "markdown",
   "metadata": {},
   "source": [
    "A more detailed comparison of the two classifications revealed a minor bug in\n",
    "`ua-parser`'s classification. Analog corrects that bug while enriching the\n",
    "parsed access logs."
   ]
  },
  {
   "cell_type": "markdown",
   "metadata": {},
   "source": [
    "## 2. Page Views\n",
    "\n",
    "[apparebit.com](https://apparebit.com) utilizes commercially licensed fonts. The\n",
    "license terms impose an upper limit of monthly page views. Hence, I'm eager to\n",
    "check them first:"
   ]
  },
  {
   "cell_type": "code",
   "execution_count": 4,
   "metadata": {},
   "outputs": [],
   "source": [
    "page_views = (\n",
    "    analog.analyze(df)  # A page view\n",
    "    .only.successful()  # is a successful\n",
    "    .only.GET()         # GET request\n",
    "    .only.markup()      # for markup (HTML)\n",
    "    .only.humans()      # made by humans.\n",
    ")"
   ]
  },
  {
   "cell_type": "markdown",
   "metadata": {},
   "source": [
    "### 2.1 Monthly Page Views\n",
    "\n",
    "So how many page views were there for each month? Not enough to require purchase\n",
    "of the next license tier. Yay!"
   ]
  },
  {
   "cell_type": "code",
   "execution_count": 5,
   "metadata": {},
   "outputs": [
    {
     "data": {
      "image/png": "[encoded data removed]",
      "text/plain": [
       "<Figure size 576x360 with 1 Axes>"
      ]
     },
     "metadata": {
      "needs_background": "light"
     },
     "output_type": "display_data"
    }
   ],
   "source": [
    "page_views.monthly.requests().plot(figsize=(8,5)).done()"
   ]
  },
  {
   "cell_type": "markdown",
   "metadata": {},
   "source": [
    "### 2.2 Top 10 Most Popular Pages Last Month\n",
    "\n",
    "Ooh, I love how traffic increased in early 2021. But what pages drew the most\n",
    "visitors? Let's check the top 10 most popular pages for the last month:"
   ]
  },
  {
   "cell_type": "code",
   "execution_count": 6,
   "metadata": {},
   "outputs": [
    {
     "data": {
      "text/html": [
       "<div>\n",
       "<style scoped>\n",
       "    .dataframe tbody tr th:only-of-type {\n",
       "        vertical-align: middle;\n",
       "    }\n",
       "\n",
       "    .dataframe tbody tr th {\n",
       "        vertical-align: top;\n",
       "    }\n",
       "\n",
       "    .dataframe thead th {\n",
       "        text-align: right;\n",
       "    }\n",
       "</style>\n",
       "<table border=\"1\" class=\"dataframe\">\n",
       "  <thead>\n",
       "    <tr style=\"text-align: right;\">\n",
       "      <th></th>\n",
       "      <th>count</th>\n",
       "    </tr>\n",
       "    <tr>\n",
       "      <th>cool_path</th>\n",
       "      <th></th>\n",
       "    </tr>\n",
       "  </thead>\n",
       "  <tbody>\n",
       "    <tr>\n",
       "      <th>/</th>\n",
       "      <td>678</td>\n",
       "    </tr>\n",
       "    <tr>\n",
       "      <th>/blog/2019/i-feel-love</th>\n",
       "      <td>188</td>\n",
       "    </tr>\n",
       "    <tr>\n",
       "      <th>/blog/2021/game-of-thrones</th>\n",
       "      <td>148</td>\n",
       "    </tr>\n",
       "    <tr>\n",
       "      <th>/blog</th>\n",
       "      <td>60</td>\n",
       "    </tr>\n",
       "    <tr>\n",
       "      <th>/about/apparebit</th>\n",
       "      <td>37</td>\n",
       "    </tr>\n",
       "    <tr>\n",
       "      <th>/features/ubu-trump</th>\n",
       "      <td>32</td>\n",
       "    </tr>\n",
       "    <tr>\n",
       "      <th>/about/robert-grimm</th>\n",
       "      <td>29</td>\n",
       "    </tr>\n",
       "    <tr>\n",
       "      <th>/about/privacy</th>\n",
       "      <td>25</td>\n",
       "    </tr>\n",
       "    <tr>\n",
       "      <th>/blog/2022/wrong-impression</th>\n",
       "      <td>24</td>\n",
       "    </tr>\n",
       "    <tr>\n",
       "      <th>/about/robert-grimm/with-halo</th>\n",
       "      <td>23</td>\n",
       "    </tr>\n",
       "  </tbody>\n",
       "</table>\n",
       "</div>"
      ],
      "text/plain": [
       "                               count\n",
       "cool_path                           \n",
       "/                                678\n",
       "/blog/2019/i-feel-love           188\n",
       "/blog/2021/game-of-thrones       148\n",
       "/blog                             60\n",
       "/about/apparebit                  37\n",
       "/features/ubu-trump               32\n",
       "/about/robert-grimm               29\n",
       "/about/privacy                    25\n",
       "/blog/2022/wrong-impression       24\n",
       "/about/robert-grimm/with-halo     23"
      ]
     },
     "metadata": {},
     "output_type": "display_data"
    }
   ],
   "source": [
    "page_views.over.last_month().value_counts(\"cool_path\").print(rows=10).done()"
   ]
  },
  {
   "cell_type": "markdown",
   "metadata": {},
   "source": [
    "### 2.3 Top 10 Most Popular Pages Last Year\n",
    "\n",
    "Hmm, interesting. What were the 10 most popular pages for the last year?"
   ]
  },
  {
   "cell_type": "code",
   "execution_count": 7,
   "metadata": {},
   "outputs": [
    {
     "data": {
      "text/html": [
       "<div>\n",
       "<style scoped>\n",
       "    .dataframe tbody tr th:only-of-type {\n",
       "        vertical-align: middle;\n",
       "    }\n",
       "\n",
       "    .dataframe tbody tr th {\n",
       "        vertical-align: top;\n",
       "    }\n",
       "\n",
       "    .dataframe thead th {\n",
       "        text-align: right;\n",
       "    }\n",
       "</style>\n",
       "<table border=\"1\" class=\"dataframe\">\n",
       "  <thead>\n",
       "    <tr style=\"text-align: right;\">\n",
       "      <th></th>\n",
       "      <th>count</th>\n",
       "    </tr>\n",
       "    <tr>\n",
       "      <th>cool_path</th>\n",
       "      <th></th>\n",
       "    </tr>\n",
       "  </thead>\n",
       "  <tbody>\n",
       "    <tr>\n",
       "      <th>/</th>\n",
       "      <td>6755</td>\n",
       "    </tr>\n",
       "    <tr>\n",
       "      <th>/blog/2021/game-of-thrones</th>\n",
       "      <td>1739</td>\n",
       "    </tr>\n",
       "    <tr>\n",
       "      <th>/blog</th>\n",
       "      <td>717</td>\n",
       "    </tr>\n",
       "    <tr>\n",
       "      <th>/blog/2019/i-feel-love</th>\n",
       "      <td>405</td>\n",
       "    </tr>\n",
       "    <tr>\n",
       "      <th>/about/robert-grimm</th>\n",
       "      <td>375</td>\n",
       "    </tr>\n",
       "    <tr>\n",
       "      <th>/about/apparebit</th>\n",
       "      <td>344</td>\n",
       "    </tr>\n",
       "    <tr>\n",
       "      <th>/blog/2022/wrong-impression</th>\n",
       "      <td>333</td>\n",
       "    </tr>\n",
       "    <tr>\n",
       "      <th>/about/privacy</th>\n",
       "      <td>300</td>\n",
       "    </tr>\n",
       "    <tr>\n",
       "      <th>/blog/2016/hopelessness</th>\n",
       "      <td>287</td>\n",
       "    </tr>\n",
       "    <tr>\n",
       "      <th>/about/robert-grimm/with-halo</th>\n",
       "      <td>286</td>\n",
       "    </tr>\n",
       "  </tbody>\n",
       "</table>\n",
       "</div>"
      ],
      "text/plain": [
       "                               count\n",
       "cool_path                           \n",
       "/                               6755\n",
       "/blog/2021/game-of-thrones      1739\n",
       "/blog                            717\n",
       "/blog/2019/i-feel-love           405\n",
       "/about/robert-grimm              375\n",
       "/about/apparebit                 344\n",
       "/blog/2022/wrong-impression      333\n",
       "/about/privacy                   300\n",
       "/blog/2016/hopelessness          287\n",
       "/about/robert-grimm/with-halo    286"
      ]
     },
     "metadata": {},
     "output_type": "display_data"
    }
   ],
   "source": [
    "page_views.over.last_year().value_counts(\"cool_path\").print(rows=10).done()"
   ]
  },
  {
   "cell_type": "markdown",
   "metadata": {},
   "source": [
    "### 2.4 Domain Names for the Win!\n",
    "\n",
    "It sure makes sense that my home page is #1. I also expected the blog index to\n",
    "be popular. But I didn't expect the blog posts [Game of Thrones, US\n",
    "Edition](https://apparebit.com/blog/2021/game-of-thrones) and [I Feel\n",
    "Love](https://apparebit.com/blog/2019/i-feel-love) to be that popular.\n",
    "\n",
    "Come to think of it, the two pages do share one trait that separates them from\n",
    "all other posts: I own two other domains, [deface.info](http://deface.info) and\n",
    "[obscenely.gay](http://obscenely.gay), that just happen to redirect to them. At\n",
    "the same time, I haven't advertised the two secondary domains beyond mentioning\n",
    "them on Twitter. So do these secondary domains make a difference?\n",
    "\n",
    "The thing is: It's pretty much impossible to prove or disprove whether the\n",
    "secondary domains boost traffic based on the log data. In theory, the `Referer`\n",
    "(sic) header would provide us with just the information we need. But in\n",
    "practice, the two domain registrars providing URL forwarding for the domains\n",
    "(understandably) do not go through the trouble of maintaining TLS certificates\n",
    "for them. As a result, a browser accessing either domain necessarily starts out\n",
    "using insecure HTTP and, since <apparebit.com> only supports HTTPS, ends up with\n",
    "secure HTTPS. But according to the latest default referrer policy,\n",
    "`strict-origin-when-cross-origin`, clients should *not* include the `Referer`\n",
    "for requests with no or mixed security.\n",
    "\n",
    "Let's check the data for *I Feel Love*:"
   ]
  },
  {
   "cell_type": "code",
   "execution_count": 8,
   "metadata": {},
   "outputs": [
    {
     "data": {
      "text/html": [
       "<div>\n",
       "<style scoped>\n",
       "    .dataframe tbody tr th:only-of-type {\n",
       "        vertical-align: middle;\n",
       "    }\n",
       "\n",
       "    .dataframe tbody tr th {\n",
       "        vertical-align: top;\n",
       "    }\n",
       "\n",
       "    .dataframe thead th {\n",
       "        text-align: right;\n",
       "    }\n",
       "</style>\n",
       "<table border=\"1\" class=\"dataframe\">\n",
       "  <thead>\n",
       "    <tr style=\"text-align: right;\">\n",
       "      <th></th>\n",
       "      <th>count</th>\n",
       "    </tr>\n",
       "    <tr>\n",
       "      <th>referrer_host</th>\n",
       "      <th></th>\n",
       "    </tr>\n",
       "  </thead>\n",
       "  <tbody>\n",
       "    <tr>\n",
       "      <th>www.google.com</th>\n",
       "      <td>149</td>\n",
       "    </tr>\n",
       "    <tr>\n",
       "      <th>obscenely.gay</th>\n",
       "      <td>28</td>\n",
       "    </tr>\n",
       "    <tr>\n",
       "      <th>apparebit.com</th>\n",
       "      <td>12</td>\n",
       "    </tr>\n",
       "    <tr>\n",
       "      <th>www.obscenely.gay</th>\n",
       "      <td>5</td>\n",
       "    </tr>\n",
       "    <tr>\n",
       "      <th>m.obscenely.gay</th>\n",
       "      <td>2</td>\n",
       "    </tr>\n",
       "    <tr>\n",
       "      <th>app.obscenely.gay</th>\n",
       "      <td>2</td>\n",
       "    </tr>\n",
       "    <tr>\n",
       "      <th>www.apparebit.com</th>\n",
       "      <td>1</td>\n",
       "    </tr>\n",
       "    <tr>\n",
       "      <th>www.bing.com</th>\n",
       "      <td>1</td>\n",
       "    </tr>\n",
       "    <tr>\n",
       "      <th>alf100.ru</th>\n",
       "      <td>1</td>\n",
       "    </tr>\n",
       "  </tbody>\n",
       "</table>\n",
       "</div>"
      ],
      "text/plain": [
       "                   count\n",
       "referrer_host           \n",
       "www.google.com       149\n",
       "obscenely.gay         28\n",
       "apparebit.com         12\n",
       "www.obscenely.gay      5\n",
       "m.obscenely.gay        2\n",
       "app.obscenely.gay      2\n",
       "www.apparebit.com      1\n",
       "www.bing.com           1\n",
       "alf100.ru              1"
      ]
     },
     "metadata": {},
     "output_type": "display_data"
    },
    {
     "data": {
      "text/html": [
       "<div>\n",
       "<style scoped>\n",
       "    .dataframe tbody tr th:only-of-type {\n",
       "        vertical-align: middle;\n",
       "    }\n",
       "\n",
       "    .dataframe tbody tr th {\n",
       "        vertical-align: top;\n",
       "    }\n",
       "\n",
       "    .dataframe thead th {\n",
       "        text-align: right;\n",
       "    }\n",
       "</style>\n",
       "<table border=\"1\" class=\"dataframe\">\n",
       "  <thead>\n",
       "    <tr style=\"text-align: right;\">\n",
       "      <th></th>\n",
       "      <th>requests</th>\n",
       "      <th>percent</th>\n",
       "    </tr>\n",
       "  </thead>\n",
       "  <tbody>\n",
       "    <tr>\n",
       "      <th>no_referrer</th>\n",
       "      <td>204</td>\n",
       "      <td>50.4</td>\n",
       "    </tr>\n",
       "    <tr>\n",
       "      <th>google</th>\n",
       "      <td>149</td>\n",
       "      <td>36.8</td>\n",
       "    </tr>\n",
       "    <tr>\n",
       "      <th>obscenely.gay</th>\n",
       "      <td>33</td>\n",
       "      <td>8.1</td>\n",
       "    </tr>\n",
       "    <tr>\n",
       "      <th>page_views</th>\n",
       "      <td>405</td>\n",
       "      <td>100.0</td>\n",
       "    </tr>\n",
       "  </tbody>\n",
       "</table>\n",
       "</div>"
      ],
      "text/plain": [
       "<analog.analyzer.FluentSentence at 0x1418067d0>"
      ]
     },
     "execution_count": 8,
     "metadata": {},
     "output_type": "execute_result"
    }
   ],
   "source": [
    "def domain_to_path(data, domain, path):\n",
    "    with analog.fresh_counts() as counts:\n",
    "        referrers = (\n",
    "            data\n",
    "            .only.equals('cool_path', path)\n",
    "            .over.last_year()\n",
    "            .count_rows()\n",
    "            .value_counts('referrer_host')\n",
    "            .print()\n",
    "            .data\n",
    "        )\n",
    "\n",
    "    requests = pd.Series([\n",
    "        counts[0] - referrers.sum(), # No referrer\n",
    "        referrers['www.google.com'],\n",
    "        referrers[domain] + referrers[f'www.{domain}'],\n",
    "        counts[0]\n",
    "    ], ['no_referrer', 'google', domain, 'page_views']).rename('requests')\n",
    "    percentages = (requests * 100 / counts[0]).round(1).rename('percent')\n",
    "    return analog.merge(requests, percentages)\n",
    "\n",
    "domain_to_path(page_views, 'obscenely.gay', '/blog/2019/i-feel-love')"
   ]
  },
  {
   "cell_type": "markdown",
   "metadata": {},
   "source": [
    "Just as predicted, a large number of requests, 50.4%, do not include a referrer,\n",
    "while only small number, 8.1%, can be attributed to `obscenely.gay`. At 36.8% of\n",
    "all requests, Google turns out to be an important source of traffic — for this\n",
    "page.\n",
    "\n",
    "Two comments about the code above:\n",
    "\n",
    "  1. Analog augments but not replaces Pandas. More complicated analysis, like\n",
    "     the one above, may just require falling back onto Pandas.\n",
    "  2. It often pays off to define a function when performing non-trivial\n",
    "     analysis. Chances are we'll be able to reuse it.\n",
    "     \n",
    "In fact, let's reuse the above function right now:"
   ]
  },
  {
   "cell_type": "code",
   "execution_count": 9,
   "metadata": {},
   "outputs": [
    {
     "data": {
      "text/html": [
       "<div>\n",
       "<style scoped>\n",
       "    .dataframe tbody tr th:only-of-type {\n",
       "        vertical-align: middle;\n",
       "    }\n",
       "\n",
       "    .dataframe tbody tr th {\n",
       "        vertical-align: top;\n",
       "    }\n",
       "\n",
       "    .dataframe thead th {\n",
       "        text-align: right;\n",
       "    }\n",
       "</style>\n",
       "<table border=\"1\" class=\"dataframe\">\n",
       "  <thead>\n",
       "    <tr style=\"text-align: right;\">\n",
       "      <th></th>\n",
       "      <th>count</th>\n",
       "    </tr>\n",
       "    <tr>\n",
       "      <th>referrer_host</th>\n",
       "      <th></th>\n",
       "    </tr>\n",
       "  </thead>\n",
       "  <tbody>\n",
       "    <tr>\n",
       "      <th>deface.info</th>\n",
       "      <td>225</td>\n",
       "    </tr>\n",
       "    <tr>\n",
       "      <th>www.google.com</th>\n",
       "      <td>202</td>\n",
       "    </tr>\n",
       "    <tr>\n",
       "      <th>apparebit.com</th>\n",
       "      <td>67</td>\n",
       "    </tr>\n",
       "    <tr>\n",
       "      <th>info.all-url.info</th>\n",
       "      <td>18</td>\n",
       "    </tr>\n",
       "    <tr>\n",
       "      <th>www.deface.info</th>\n",
       "      <td>17</td>\n",
       "    </tr>\n",
       "    <tr>\n",
       "      <th>baidu.com</th>\n",
       "      <td>5</td>\n",
       "    </tr>\n",
       "    <tr>\n",
       "      <th>fbkwriter.com</th>\n",
       "      <td>2</td>\n",
       "    </tr>\n",
       "    <tr>\n",
       "      <th>www.bing.com</th>\n",
       "      <td>1</td>\n",
       "    </tr>\n",
       "    <tr>\n",
       "      <th>www.apparebit.com</th>\n",
       "      <td>1</td>\n",
       "    </tr>\n",
       "  </tbody>\n",
       "</table>\n",
       "</div>"
      ],
      "text/plain": [
       "                   count\n",
       "referrer_host           \n",
       "deface.info          225\n",
       "www.google.com       202\n",
       "apparebit.com         67\n",
       "info.all-url.info     18\n",
       "www.deface.info       17\n",
       "baidu.com              5\n",
       "fbkwriter.com          2\n",
       "www.bing.com           1\n",
       "www.apparebit.com      1"
      ]
     },
     "metadata": {},
     "output_type": "display_data"
    },
    {
     "data": {
      "text/html": [
       "<div>\n",
       "<style scoped>\n",
       "    .dataframe tbody tr th:only-of-type {\n",
       "        vertical-align: middle;\n",
       "    }\n",
       "\n",
       "    .dataframe tbody tr th {\n",
       "        vertical-align: top;\n",
       "    }\n",
       "\n",
       "    .dataframe thead th {\n",
       "        text-align: right;\n",
       "    }\n",
       "</style>\n",
       "<table border=\"1\" class=\"dataframe\">\n",
       "  <thead>\n",
       "    <tr style=\"text-align: right;\">\n",
       "      <th></th>\n",
       "      <th>requests</th>\n",
       "      <th>percent</th>\n",
       "    </tr>\n",
       "  </thead>\n",
       "  <tbody>\n",
       "    <tr>\n",
       "      <th>no_referrer</th>\n",
       "      <td>1201</td>\n",
       "      <td>69.1</td>\n",
       "    </tr>\n",
       "    <tr>\n",
       "      <th>google</th>\n",
       "      <td>202</td>\n",
       "      <td>11.6</td>\n",
       "    </tr>\n",
       "    <tr>\n",
       "      <th>deface.info</th>\n",
       "      <td>242</td>\n",
       "      <td>13.9</td>\n",
       "    </tr>\n",
       "    <tr>\n",
       "      <th>page_views</th>\n",
       "      <td>1739</td>\n",
       "      <td>100.0</td>\n",
       "    </tr>\n",
       "  </tbody>\n",
       "</table>\n",
       "</div>"
      ],
      "text/plain": [
       "<analog.analyzer.FluentSentence at 0x1080e70a0>"
      ]
     },
     "execution_count": 9,
     "metadata": {},
     "output_type": "execute_result"
    }
   ],
   "source": [
    "domain_to_path(page_views, 'deface.info', '/blog/2021/game-of-thrones')"
   ]
  },
  {
   "cell_type": "markdown",
   "metadata": {},
   "source": [
    "At 69.1%, the lack of referrers is even more pronounced for *Game of Thrones, US\n",
    "Edition*, whereas the percentage of referrals from the secondary domain is\n",
    "almost double, though still quite small.\n",
    "\n",
    "#### Lesson Learned\n",
    "\n",
    "While I cannot prove that the secondary domains serve as traffic boosters, that\n",
    "still seems like the simplest explanation. Hence, I'm inclined to believe it\n",
    "anyways. That belief then leads me to the following rule for maximizing the\n",
    "domains' impact:\n",
    "\n",
    "> Make sure to point `obscenely.gay` at my gayest page and `deface.info` at the\n",
    "> page that is most damning for Facebook!\n",
    "\n",
    "As of this writing, the latter is [Wrong\n",
    "Impression](https://apparebit.com/blog/2022/wrong-impression), which presents\n",
    "compelling evidence that Facebook is cooking the books and hence misrepresenting\n",
    "its business to paying customers, investors, and regulators alike. I've updated\n",
    "`deface.info` accordingly."
   ]
  },
  {
   "cell_type": "markdown",
   "metadata": {},
   "source": [
    "## 3. Status Codes\n",
    "\n",
    "Let switch gears a bit: So far, we considered only successful GET requests for\n",
    "markup by humans, i.e., page views. Now, we are going to consider all requests\n",
    "and the resulting response status codes.\n",
    "\n",
    "\n",
    "### 3.1 The Four Status Classes\n",
    "\n",
    "HTTP status codes come in hundreds and distinguish between:\n",
    "\n",
    "  * 2xx: successful requests,\n",
    "  * 3xx: redirections,\n",
    "  * 4xx: client errors,\n",
    "  * 5xx: server errors.\n",
    "\n",
    "Let's look at these four status classes on a monthly basis:"
   ]
  },
  {
   "cell_type": "code",
   "execution_count": 10,
   "metadata": {},
   "outputs": [
    {
     "data": {
      "image/png": "[encoded data removed]",
      "text/plain": [
       "<Figure size 864x504 with 1 Axes>"
      ]
     },
     "metadata": {
      "needs_background": "light"
     },
     "output_type": "display_data"
    }
   ],
   "source": [
    "(\n",
    "    analog.analyze(df)\n",
    "    .monthly.status_classes()\n",
    "    .plot(kind='bar', stacked=True, width=0.8, figsize=(12,7))\n",
    "    .done()\n",
    ")"
   ]
  },
  {
   "cell_type": "markdown",
   "metadata": {},
   "source": [
    "Sweet! That's a nice graph. Admittedly, it took some futzing with plot size and\n",
    "column `width` because the defaults made for too small a graph with too much\n",
    "space between columns. But adjusting the plot was easy, since analog passes\n",
    "keyword arguments through to Pandas' `plot()` method."
   ]
  },
  {
   "cell_type": "markdown",
   "metadata": {},
   "source": [
    "### 3.2 Top 10 Paths Resulting in Server Errors\n",
    "\n",
    "The presence of server errors is a bit surprising. It suggests that my hosting\n",
    "provider's shared server instance isn't particularly well managed, at least from\n",
    "June 2021 through June 2022. That's no good. But before calling their customer\n",
    "service, we should find out a little more about those server errors:"
   ]
  },
  {
   "cell_type": "code",
   "execution_count": 11,
   "metadata": {},
   "outputs": [
    {
     "data": {
      "text/html": [
       "<div>\n",
       "<style scoped>\n",
       "    .dataframe tbody tr th:only-of-type {\n",
       "        vertical-align: middle;\n",
       "    }\n",
       "\n",
       "    .dataframe tbody tr th {\n",
       "        vertical-align: top;\n",
       "    }\n",
       "\n",
       "    .dataframe thead th {\n",
       "        text-align: right;\n",
       "    }\n",
       "</style>\n",
       "<table border=\"1\" class=\"dataframe\">\n",
       "  <thead>\n",
       "    <tr style=\"text-align: right;\">\n",
       "      <th></th>\n",
       "      <th>count</th>\n",
       "    </tr>\n",
       "    <tr>\n",
       "      <th>path</th>\n",
       "      <th></th>\n",
       "    </tr>\n",
       "  </thead>\n",
       "  <tbody>\n",
       "    <tr>\n",
       "      <th>/blog/2021/game-of-thrones/wp1/wp-includes/wlw...</th>\n",
       "      <td>156</td>\n",
       "    </tr>\n",
       "    <tr>\n",
       "      <th>/blog/2021/game-of-thrones/wp/wp-includes/wlwm...</th>\n",
       "      <td>156</td>\n",
       "    </tr>\n",
       "    <tr>\n",
       "      <th>/blog/2021/game-of-thrones/wordpress/wp-includ...</th>\n",
       "      <td>156</td>\n",
       "    </tr>\n",
       "    <tr>\n",
       "      <th>/blog/2021/game-of-thrones/web/wp-includes/wlw...</th>\n",
       "      <td>156</td>\n",
       "    </tr>\n",
       "    <tr>\n",
       "      <th>/blog/2021/game-of-thrones/cms/wp-includes/wlw...</th>\n",
       "      <td>156</td>\n",
       "    </tr>\n",
       "    <tr>\n",
       "      <th>/blog/2021/game-of-thrones/test/wp-includes/wl...</th>\n",
       "      <td>156</td>\n",
       "    </tr>\n",
       "    <tr>\n",
       "      <th>/blog/2021/game-of-thrones/site/wp-includes/wl...</th>\n",
       "      <td>156</td>\n",
       "    </tr>\n",
       "    <tr>\n",
       "      <th>/blog/2021/game-of-thrones/blog/wp-includes/wl...</th>\n",
       "      <td>151</td>\n",
       "    </tr>\n",
       "    <tr>\n",
       "      <th>/blog/2021/game-of-thrones/shop/wp-includes/wl...</th>\n",
       "      <td>149</td>\n",
       "    </tr>\n",
       "    <tr>\n",
       "      <th>/blog/2021/game-of-thrones/2019/wp-includes/wl...</th>\n",
       "      <td>149</td>\n",
       "    </tr>\n",
       "  </tbody>\n",
       "</table>\n",
       "</div>"
      ],
      "text/plain": [
       "<analog.analyzer.FluentDisplay at 0x1405d0ca0>"
      ]
     },
     "execution_count": 11,
     "metadata": {},
     "output_type": "execute_result"
    }
   ],
   "source": [
    "(\n",
    "    analog.analyze(df)\n",
    "    .over.range(*analog.monthly_period('2021-06', '2022-06'))\n",
    "    .only.server_error()\n",
    "    .value_counts('path')\n",
    "    [:10]\n",
    ")"
   ]
  },
  {
   "cell_type": "markdown",
   "metadata": {},
   "source": [
    "Ah, WordPress! I'm guessing that the shared server is somehow misconfigured and\n",
    "fails on these probes for WordPress security vulnerabilities. Personally, I'm\n",
    "glad I'm not using a content management system, but instead rely on [my own\n",
    "static website generator](https://github.com/apparebit/siteforge) instead.\n",
    "\n",
    "**About HTML tables**: The code cell above chops off rows beyond the 10th one\n",
    "but does not print the wrapped series — instead letting the wrapped series\n",
    "become the cell's value. Since all fluent wrappers implement the `_repr_html_()`\n",
    "method, IPython automatically formats the data with that method. In contrast,\n",
    "analog's fluent `.print()` method needs to work a tad harder to also emit an\n",
    "HTML table when inside IPython. In fact, if you go back to the referrer counts,\n",
    "you'll find that the same cell prints one dataframe and finishes with another\n",
    "dataframe."
   ]
  },
  {
   "cell_type": "markdown",
   "metadata": {},
   "source": [
    "### 3.3 Top 10 Paths That Were Not Found Last Year\n",
    "\n",
    "While we are at it, let's look at client errors, too:"
   ]
  },
  {
   "cell_type": "code",
   "execution_count": 12,
   "metadata": {},
   "outputs": [
    {
     "data": {
      "text/html": [
       "<div>\n",
       "<style scoped>\n",
       "    .dataframe tbody tr th:only-of-type {\n",
       "        vertical-align: middle;\n",
       "    }\n",
       "\n",
       "    .dataframe tbody tr th {\n",
       "        vertical-align: top;\n",
       "    }\n",
       "\n",
       "    .dataframe thead th {\n",
       "        text-align: right;\n",
       "    }\n",
       "</style>\n",
       "<table border=\"1\" class=\"dataframe\">\n",
       "  <thead>\n",
       "    <tr style=\"text-align: right;\">\n",
       "      <th></th>\n",
       "      <th>count</th>\n",
       "    </tr>\n",
       "    <tr>\n",
       "      <th>path</th>\n",
       "      <th></th>\n",
       "    </tr>\n",
       "  </thead>\n",
       "  <tbody>\n",
       "    <tr>\n",
       "      <th>/favicon.ico</th>\n",
       "      <td>673</td>\n",
       "    </tr>\n",
       "    <tr>\n",
       "      <th>/ads.txt</th>\n",
       "      <td>563</td>\n",
       "    </tr>\n",
       "    <tr>\n",
       "      <th>/th1s_1s_a_4o4.html</th>\n",
       "      <td>358</td>\n",
       "    </tr>\n",
       "    <tr>\n",
       "      <th>//cms/wp-includes/wlwmanifest.xml</th>\n",
       "      <td>306</td>\n",
       "    </tr>\n",
       "    <tr>\n",
       "      <th>//site/wp-includes/wlwmanifest.xml</th>\n",
       "      <td>306</td>\n",
       "    </tr>\n",
       "    <tr>\n",
       "      <th>//test/wp-includes/wlwmanifest.xml</th>\n",
       "      <td>306</td>\n",
       "    </tr>\n",
       "    <tr>\n",
       "      <th>//wp1/wp-includes/wlwmanifest.xml</th>\n",
       "      <td>306</td>\n",
       "    </tr>\n",
       "    <tr>\n",
       "      <th>//wordpress/wp-includes/wlwmanifest.xml</th>\n",
       "      <td>303</td>\n",
       "    </tr>\n",
       "    <tr>\n",
       "      <th>//wp/wp-includes/wlwmanifest.xml</th>\n",
       "      <td>302</td>\n",
       "    </tr>\n",
       "    <tr>\n",
       "      <th>//web/wp-includes/wlwmanifest.xml</th>\n",
       "      <td>300</td>\n",
       "    </tr>\n",
       "  </tbody>\n",
       "</table>\n",
       "</div>"
      ],
      "text/plain": [
       "<analog.analyzer.FluentDisplay at 0x141ae3d90>"
      ]
     },
     "execution_count": 12,
     "metadata": {},
     "output_type": "execute_result"
    }
   ],
   "source": [
    "(\n",
    "    analog.analyze(df)\n",
    "    .over.last_year()\n",
    "    .only.not_found()\n",
    "    .value_counts('path')\n",
    "    [:10]\n",
    ")"
   ]
  },
  {
   "cell_type": "markdown",
   "metadata": {},
   "source": [
    "Ah, WordPress! More useless traffic to probe the security of software I haven't\n",
    "even installed. Though I'm pretty sure others on that shared server instance do\n",
    "make use of WordPress.\n",
    "\n",
    "Since all pages on [apparebit.com](https://apparebit.com) declare an explicit\n",
    "`rel=icon` as well as `webmanifest`, I am not sure why some clients still try to\n",
    "access the tired old `favicon.ico`. I hadn't been familiar with `ads.txt`. It\n",
    "provides a way [to limit who can\n",
    "advertise](https://en.wikipedia.org/wiki/Ads.txt) on a website, independent of\n",
    "the ad network. Since apparebit.com does not include advertising, I see no need\n",
    "to create one."
   ]
  }
 ],
 "metadata": {
  "kernelspec": {
   "display_name": "Python 3.10.4 64-bit ('analog')",
   "language": "python",
   "name": "python3"
  },
  "language_info": {
   "codemirror_mode": {
    "name": "ipython",
    "version": 3
   },
   "file_extension": ".py",
   "mimetype": "text/x-python",
   "name": "python",
   "nbconvert_exporter": "python",
   "pygments_lexer": "ipython3",
   "version": "3.10.4"
  },
  "orig_nbformat": 4,
  "vscode": {
   "interpreter": {
    "hash": "684819bc11b2f355dfdb0aa85b06decc1669fdd2b5a19c8292194a678ef9d7fa"
   }
  }
 },
 "nbformat": 4,
 "nbformat_minor": 2
}
