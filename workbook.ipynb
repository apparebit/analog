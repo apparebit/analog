{
 "cells": [
  {
   "cell_type": "markdown",
   "metadata": {},
   "source": [
    "# Analog: Ana(lyzing) Log(s)"
   ]
  },
  {
   "cell_type": "markdown",
   "metadata": {},
   "source": [
    "## Parsing and Enriching Monthly Access Logs\n",
    "\n",
    "Before we can analyze the web server access logs, we need to:\n",
    "\n",
    " 1. Parse them to convert unstructured text into structured data;\n",
    " 2. Add derrived columns that make analysis more straight-forward;\n",
    " 3. Correlate some columns with other databases, notably for domain\n",
    "    names, IP locations, and user agent classification.\n",
    "\n",
    "To avoid reprocessing an ever growing amount of log data, we process each\n",
    "monthly access log on its own, saving the resulting monthly dataframes as\n",
    "individual Parquet files. We then combine all dataframes into a single one and\n",
    "save that as a Parquet file, too. A JSON sidecar contains summary statistics.\n",
    "That should let us get away with ingesting a new monthly access log each month.\n",
    "\n",
    "Alas, during development of this library, bugs frequently required rebuilding\n",
    "all monthly and the combined dataframes from scratch. By far the slowest step\n",
    "when doing so are DNS lookups. For that reason, we cache all of their results,\n",
    "which significantly speeds up the ingestion from several minutes down to a few\n",
    "seconds."
   ]
  },
  {
   "cell_type": "code",
   "execution_count": 1,
   "metadata": {},
   "outputs": [
    {
     "name": "stderr",
     "output_type": "stream",
     "text": [
      "[INFO] Note: NumExpr detected 20 cores but \"NUMEXPR_MAX_THREADS\" not set, so enforcing safe limit of 8.\n",
      "[INFO] NumExpr defaulting to 8 threads.\n",
      "[INFO] Running with configuration:\n",
      "           root = /Users/rgrimm/Work/analog/data\n",
      "          clean = False\n",
      "    incremental = False\n",
      "      use_color = None\n",
      "         volume = 1\n",
      "[INFO] Load existing log frame '/Users/rgrimm/Work/analog/data/apparebit.com-2018-07-2022-07.parquet'\n",
      "[INFO] Validating log frame '/Users/rgrimm/Work/analog/data/apparebit.com-2018-07-2022-07.parquet'\n"
     ]
    },
    {
     "name": "stdout",
     "output_type": "stream",
     "text": [
      "<class 'pandas.core.frame.DataFrame'>\n",
      "RangeIndex: 227553 entries, 0 to 227552\n",
      "Data columns (total 31 columns):\n",
      " #   Column            Non-Null Count   Dtype              \n",
      "---  ------            --------------   -----              \n",
      " 0   client_address    227553 non-null  string             \n",
      " 1   timestamp         227553 non-null  datetime64[ns, UTC]\n",
      " 2   method            227553 non-null  category           \n",
      " 3   path              227553 non-null  string             \n",
      " 4   query             3226 non-null    string             \n",
      " 5   protocol          227553 non-null  category           \n",
      " 6   status            227553 non-null  int16              \n",
      " 7   size              227553 non-null  int32              \n",
      " 8   referrer          100860 non-null  string             \n",
      " 9   user_agent        224065 non-null  string             \n",
      " 10  server_name       202518 non-null  string             \n",
      " 11  server_address    202518 non-null  string             \n",
      " 12  content_type      227553 non-null  category           \n",
      " 13  cool_path         227553 non-null  string             \n",
      " 14  referrer_scheme   98419 non-null   category           \n",
      " 15  referrer_host     98419 non-null   string             \n",
      " 16  referrer_path     98419 non-null   string             \n",
      " 17  status_class      227553 non-null  category           \n",
      " 18  client_name       173293 non-null  string             \n",
      " 19  client_latitude   227515 non-null  float64            \n",
      " 20  client_longitude  227515 non-null  float64            \n",
      " 21  client_city       134389 non-null  string             \n",
      " 22  client_country    227441 non-null  string             \n",
      " 23  agent_family      224065 non-null  string             \n",
      " 24  agent_version     224065 non-null  string             \n",
      " 25  os_family         224065 non-null  string             \n",
      " 26  os_version        224065 non-null  string             \n",
      " 27  device_family     224065 non-null  string             \n",
      " 28  device_brand      224065 non-null  string             \n",
      " 29  device_model      224065 non-null  string             \n",
      " 30  is_bot            227553 non-null  bool               \n",
      "dtypes: bool(1), category(5), datetime64[ns, UTC](1), float64(2), int16(1), int32(1), string(20)\n",
      "memory usage: 42.5 MB\n"
     ]
    }
   ],
   "source": [
    "from analog.__main__ import to_options\n",
    "from analog.analyzer import calculate\n",
    "from analog.data_manager import latest_log_data\n",
    "\n",
    "# By default, latest_log_data() only logs errors and warnings.\n",
    "# In verbose mode, it also logs informational messages.\n",
    "\n",
    "VERBOSE = True\n",
    "\n",
    "args = [\"-v\"] if VERBOSE else []\n",
    "\n",
    "df, coverage = latest_log_data(to_options(args))\n",
    "df.info(verbose=VERBOSE, memory_usage=True)"
   ]
  },
  {
   "cell_type": "markdown",
   "metadata": {},
   "source": [
    "## Monthly Page Views\n",
    "\n",
    "[apparebit.com](https://apparebit.com) utilizes commercially licensed fonts.\n",
    "Thankfully, all licenses are perpetual, i.e., don't require regular renewal and\n",
    "hence repeated payment. However, they do impose upper limits on the number of\n",
    "page views per month. So, let's calculate just that and then plot the result."
   ]
  },
  {
   "cell_type": "code",
   "execution_count": 2,
   "metadata": {},
   "outputs": [
    {
     "data": {
      "text/plain": [
       "<analog.analyzer.SeriesAnalyzer at 0x108d93e50>"
      ]
     },
     "execution_count": 2,
     "metadata": {},
     "output_type": "execute_result"
    },
    {
     "data": {
      "image/png": "[encoded data removed]",
      "text/plain": [
       "<Figure size 432x288 with 1 Axes>"
      ]
     },
     "metadata": {
      "needs_background": "light"
     },
     "output_type": "display_data"
    }
   ],
   "source": [
    "(\n",
    "    calculate(df)     # Wrap dataframe for fluid filtering.\n",
    "    .humans()          # Filter out requests by bots.\n",
    "    .successfully()    # Filter out status codes other than 2xx.\n",
    "    .getting()         # Filter out methods other than GET.\n",
    "    .markup()          # Filter out resources other than HTML.\n",
    "    .per_month()       # Count remaining requests per month.\n",
    "    .then_plot()       # Plot a nice graph.\n",
    ")"
   ]
  }
 ],
 "metadata": {
  "kernelspec": {
   "display_name": "Python 3.10.4 64-bit ('analog')",
   "language": "python",
   "name": "python3"
  },
  "language_info": {
   "codemirror_mode": {
    "name": "ipython",
    "version": 3
   },
   "file_extension": ".py",
   "mimetype": "text/x-python",
   "name": "python",
   "nbconvert_exporter": "python",
   "pygments_lexer": "ipython3",
   "version": "3.10.4"
  },
  "orig_nbformat": 4,
  "vscode": {
   "interpreter": {
    "hash": "684819bc11b2f355dfdb0aa85b06decc1669fdd2b5a19c8292194a678ef9d7fa"
   }
  }
 },
 "nbformat": 4,
 "nbformat_minor": 2
}
