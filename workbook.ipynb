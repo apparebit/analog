{
 "cells": [
  {
   "cell_type": "markdown",
   "metadata": {},
   "source": [
    "# Analog: Ana(lyzing) Log(s)"
   ]
  },
  {
   "cell_type": "markdown",
   "metadata": {},
   "source": [
    "This notebook uses [analog](https://github.com/apparebit/analog) to analyze\n",
    "webserver access logs for my personal website\n",
    "[apparebit.com](https://apparebit.com). The analysis starts simple enough, by\n",
    "invoking `latest_log_data()`. It returns a Pandas dataframe with the log data\n",
    "and some basic metadata (called *coverage*). The simplicity of that single\n",
    "function call is purposeful but also hides a number of preparatory steps, all\n",
    "performed by analog:\n",
    "\n",
    " 1. Parse monthly access logs to convert unstructured text into structured data;\n",
    " 2. Add derrived columns such as `cool_path` or `status_class` that simplify\n",
    "    analysis;\n",
    " 3. Correlate some columns with other databases, notably for domain\n",
    "    names, IP locations, and user agent classification.\n",
    "\n",
    "Analog processes each monthly access log provided by my hosting provider on its\n",
    "own and saves the results as Parquet files. If the corresponding Parquet file\n",
    "already exists, it skips that month. After processing the monthly logs, analog\n",
    "combines all dataframes into a single one, also saved in Parquet format. It also\n",
    "creates a JSON sidecar file with the coverage information. If the monthly logs\n",
    "didn't change and the combined dataframe already exists, analog skips this step\n",
    "too. Since DNS lookups are by far the slowest operations amongst the above\n",
    "preparatory steps, analog caches them in a `hostnames.json` file. That speeds up\n",
    "the re-processing of monthly log data — after, for example, updating the\n",
    "ingestion logic — from several minutes down to a few seconds.\n",
    "\n",
    "**TODO**: Explore content type accessed by humans vs bots, top N referrals."
   ]
  },
  {
   "cell_type": "markdown",
   "metadata": {},
   "source": [
    "## Load Log Dataframe\n",
    "\n",
    "Let's load that log dataframe and, for good measure, also print some summary\n",
    "information.\n",
    "\n",
    "If you are exploring your own log data in Visual Studio Code and the output\n",
    "isn't showing all 31 columns with their names and types, you may need to set the\n",
    "`notebook.output.textLineLimit` option to a larger number than its default of\n",
    "30."
   ]
  },
  {
   "cell_type": "code",
   "execution_count": 1,
   "metadata": {},
   "outputs": [
    {
     "name": "stderr",
     "output_type": "stream",
     "text": [
      "[INFO] Load existing log frame 'data/apparebit.com-2018-07-2022-07.parquet'\n",
      "[INFO] Validating log frame 'data/apparebit.com-2018-07-2022-07.parquet'\n"
     ]
    },
    {
     "name": "stdout",
     "output_type": "stream",
     "text": [
      "<class 'pandas.core.frame.DataFrame'>\n",
      "RangeIndex: 227553 entries, 0 to 227552\n",
      "Data columns (total 31 columns):\n",
      " #   Column            Non-Null Count   Dtype              \n",
      "---  ------            --------------   -----              \n",
      " 0   client_address    227553 non-null  string             \n",
      " 1   timestamp         227553 non-null  datetime64[ns, UTC]\n",
      " 2   method            227553 non-null  category           \n",
      " 3   path              227553 non-null  string             \n",
      " 4   query             3226 non-null    string             \n",
      " 5   protocol          227553 non-null  category           \n",
      " 6   status            227553 non-null  int16              \n",
      " 7   size              227553 non-null  int32              \n",
      " 8   referrer          100860 non-null  string             \n",
      " 9   user_agent        224065 non-null  string             \n",
      " 10  server_name       202518 non-null  string             \n",
      " 11  server_address    202518 non-null  string             \n",
      " 12  content_type      227553 non-null  category           \n",
      " 13  cool_path         227553 non-null  string             \n",
      " 14  referrer_scheme   98419 non-null   category           \n",
      " 15  referrer_host     98419 non-null   string             \n",
      " 16  referrer_path     98419 non-null   string             \n",
      " 17  status_class      227553 non-null  category           \n",
      " 18  client_name       173293 non-null  string             \n",
      " 19  client_latitude   227515 non-null  float64            \n",
      " 20  client_longitude  227515 non-null  float64            \n",
      " 21  client_city       134389 non-null  string             \n",
      " 22  client_country    227441 non-null  string             \n",
      " 23  agent_family      224065 non-null  string             \n",
      " 24  agent_version     224065 non-null  string             \n",
      " 25  os_family         224065 non-null  string             \n",
      " 26  os_version        224065 non-null  string             \n",
      " 27  device_family     224065 non-null  string             \n",
      " 28  device_brand      224065 non-null  string             \n",
      " 29  device_model      224065 non-null  string             \n",
      " 30  is_bot            227553 non-null  bool               \n",
      "dtypes: bool(1), category(5), datetime64[ns, UTC](1), float64(2), int16(1), int32(1), string(20)\n",
      "memory usage: 42.5 MB\n"
     ]
    }
   ],
   "source": [
    "from analog.analyzer import analyze, merge\n",
    "from analog.data_manager import latest_log_data\n",
    "\n",
    "df, _ = latest_log_data(\"data\")\n",
    "df.info(verbose=True, memory_usage=True)"
   ]
  },
  {
   "cell_type": "markdown",
   "metadata": {},
   "source": [
    "In addition to showing the names, counts of non-null values, and types for all\n",
    "columns, the above listing reveals one more thing: The relative creation time of\n",
    "each column. In particular:\n",
    "\n",
    "  * `client_address` through `server_address` represent properties that have\n",
    "    been extracted from access logs;\n",
    "  * `content_type` through `status_class` are properties that are easily derived\n",
    "    from the primary data;\n",
    "  * `client_name` through `device_model` are properties that correlate the\n",
    "    primary data with other databases;\n",
    "  * `is_bot` succinctly summarizes the `agent_family` through `device_model`\n",
    "    columns."
   ]
  },
  {
   "cell_type": "markdown",
   "metadata": {},
   "source": [
    "## Page Views\n",
    "\n",
    "[apparebit.com](https://apparebit.com) utilizes commercially licensed fonts.\n",
    "While licenses are perpetual, i.e., don't require renewal and hence repeated\n",
    "payments, they do impose upper limits on the number of page views per month. So,\n",
    "let's start by investigating page views.\n",
    "\n",
    "We **define page views** as successful GET requests for markup (HTML) made by\n",
    "humans (not bots). Thanks to analog's fluent API, that directly translates to\n",
    "code:"
   ]
  },
  {
   "cell_type": "code",
   "execution_count": 2,
   "metadata": {},
   "outputs": [],
   "source": [
    "page_views = (\n",
    "    analyze(df)\n",
    "    .only.successful()\n",
    "    .only.GET()\n",
    "    .only.markup()\n",
    "    .only.humans()\n",
    ")"
   ]
  },
  {
   "cell_type": "markdown",
   "metadata": {},
   "source": [
    "### Monthly Page Views\n",
    "\n",
    "Thanks to analog's domain-specific fluent wrappers for Pandas, filtering out\n",
    "page views was nice and easy. Counting requests per month and plotting the\n",
    "result isn't any harder:"
   ]
  },
  {
   "cell_type": "code",
   "execution_count": 3,
   "metadata": {},
   "outputs": [
    {
     "data": {
      "text/plain": [
       "<analog.analyzer._FluentDisplay at 0x133b0c820>"
      ]
     },
     "execution_count": 3,
     "metadata": {},
     "output_type": "execute_result"
    },
    {
     "data": {
      "image/png": "[encoded data removed]",
      "text/plain": [
       "<Figure size 576x360 with 1 Axes>"
      ]
     },
     "metadata": {
      "needs_background": "light"
     },
     "output_type": "display_data"
    }
   ],
   "source": [
    "page_views.monthly.requests().then_plot(figsize=(8,5))"
   ]
  },
  {
   "cell_type": "markdown",
   "metadata": {},
   "source": [
    "### Top 10 Most Popular Pages Last Month\n",
    "\n",
    "Ooh, I love the traffic increase of early 2021. But now I'm wondering what pages\n",
    "drew the most visitors. Let's list the top 10 most popular pages for the last\n",
    "month.\n",
    "\n",
    "Instead of picking a rate with `monthly.requests()`, we now pick a single date\n",
    "range via `over.last_month()` and then select the value counts of the\n",
    "`cool_path` column. That column is derived from the original `path` but maps\n",
    "each value to the corresponding [cool\n",
    "path](https://www.w3.org/Provider/Style/URI) by omitting the suffix if a path\n",
    "ends with `/`, `/index.html`, or `/.html`.\n",
    "\n",
    "Note that re-using the value of the `page_views` variable is just fine because\n",
    "analog creates a new dataframe for each distinct clause."
   ]
  },
  {
   "cell_type": "code",
   "execution_count": 4,
   "metadata": {},
   "outputs": [
    {
     "name": "stdout",
     "output_type": "stream",
     "text": [
      "/                                        745\n",
      "/blog/2019/i-feel-love                   201\n",
      "/blog/2021/game-of-thrones               150\n",
      "/blog                                     62\n",
      "/features/ubu-trump                       44\n",
      "/about/apparebit                          38\n",
      "/about/robert-grimm                       30\n",
      "/about/privacy                            28\n",
      "/blog/2022/wrong-impression               27\n",
      "/blog/2022/mapping-package-management     24\n",
      "Name: cool_path, dtype: Int64\n"
     ]
    },
    {
     "data": {
      "text/plain": [
       "<analog.analyzer._FluentDisplay at 0x122103c10>"
      ]
     },
     "execution_count": 4,
     "metadata": {},
     "output_type": "execute_result"
    }
   ],
   "source": [
    "\n",
    "page_views.over.last_month().value_counts(\"cool_path\").then_print(10)"
   ]
  },
  {
   "cell_type": "markdown",
   "metadata": {},
   "source": [
    "### Top 10 Most Popular Pages Last Year\n",
    "\n",
    "Interesting. Let's do the same for the last year:"
   ]
  },
  {
   "cell_type": "code",
   "execution_count": 5,
   "metadata": {},
   "outputs": [
    {
     "name": "stdout",
     "output_type": "stream",
     "text": [
      "/                              7388\n",
      "/blog/2021/game-of-thrones     1765\n",
      "/blog                           758\n",
      "/blog/2019/i-feel-love          426\n",
      "/about/robert-grimm             409\n",
      "/about/apparebit                407\n",
      "/blog/2022/wrong-impression     372\n",
      "/about/privacy                  354\n",
      "/features/ubu-trump             347\n",
      "/blog/2016/hopelessness         303\n",
      "Name: cool_path, dtype: Int64\n"
     ]
    },
    {
     "data": {
      "text/plain": [
       "<analog.analyzer._FluentDisplay at 0x10526ef20>"
      ]
     },
     "execution_count": 5,
     "metadata": {},
     "output_type": "execute_result"
    }
   ],
   "source": [
    "page_views.over.last_year().value_counts(\"cool_path\").then_print(10)"
   ]
  },
  {
   "cell_type": "markdown",
   "metadata": {},
   "source": [
    "### Behold, the Power of Domain Names\n",
    "\n",
    "Interesting. It sure makes sense that my home page is #1. I similarly expect\n",
    "that the blog index is popular, so #3 fits. But I didn't expect my blog posts\n",
    "[Game of Thrones, US Edition](https://apparebit.com/blog/2021/game-of-thrones)\n",
    "and [I Feel Love](https://apparebit.com/blog/2019/i-feel-love) to be that\n",
    "popular. Mind you, they are well worth reading: The former reflects on the power\n",
    "of Facebook and Twitter after Trump's attempted coup on January 6, 2021. The\n",
    "latter is an open letter to Sam Smith about his risible cover of the eponymous\n",
    "Donna Sumer song.\n",
    "\n",
    "In addition to being surprisingly popular, the two blog posts share one other\n",
    "trait that differentiates them from all other posts. I own two other domains,\n",
    "[deface.info](http://deface.info) and [obscenely.gay](http://obscenely.gay),\n",
    "that just happen to redirect to them. Since domain names are simpler and hence\n",
    "easier to share than complete URLs, which surround the domain name with a\n",
    "protocol and a path, them serving as popularity boosters makes sense. At the\n",
    "same time, I haven't exactly advertised the two secondary domains, only\n",
    "mentioning them in a couple of tweets. Still, it seems unlikely that domains\n",
    "have little to no traffic-boosting effects and some other, unknown factor just\n",
    "happened to boost traffic to just those two web pages.\n",
    "\n",
    "Alas, the domain-as-content-booster hyposthesis is pretty much impossible to\n",
    "prove or disprove based on the data. In theory, the `Referer` (sic) header would\n",
    "provide us with just the information we need. In practice, it's mostly missing.\n",
    "The reason is a bit involved: The two domain registrars for those domains offer\n",
    "forwarding but do not maintain TLS certificates for the domains. Hence, the\n",
    "original request an insecure HTTP request and only the redirected request is a\n",
    "secure HTTPS request. According to the default referrer policy,\n",
    "`strict-origin-when-cross-origin`, clients should *not* included the `Referer`\n",
    "for requests with no or mixed security.\n",
    "\n",
    "Let's check the `Referer` values on those two pages for the last year, starting\n",
    "with *I Feel Love*:"
   ]
  },
  {
   "cell_type": "code",
   "execution_count": 6,
   "metadata": {},
   "outputs": [
    {
     "name": "stdout",
     "output_type": "stream",
     "text": [
      "www.google.com       149\n",
      "obscenely.gay         31\n",
      "apparebit.com         12\n",
      "www.obscenely.gay      5\n",
      "m.obscenely.gay        2\n",
      "app.obscenely.gay      2\n",
      "www.apparebit.com      1\n",
      "www.bing.com           1\n",
      "alf100.ru              1\n"
     ]
    },
    {
     "data": {
      "text/plain": [
       "<analog.analyzer._FluentDisplay at 0x13478de10>"
      ]
     },
     "execution_count": 6,
     "metadata": {},
     "output_type": "execute_result"
    }
   ],
   "source": [
    "i_feel_love = (\n",
    "    page_views\n",
    "    .over.last_year()\n",
    "    .only.equals('cool_path', '/blog/2019/i-feel-love')\n",
    ")\n",
    "\n",
    "assert i_feel_love.requests() == 426\n",
    "\n",
    "i_feel_love.value_counts('referrer_host').then_print()"
   ]
  },
  {
   "cell_type": "markdown",
   "metadata": {},
   "source": [
    "Just as expected, 48% of last year's page views for *I Feel Love* had no\n",
    "referrer. In contrast, only 31 + 5 or 8% of page views use `obscenely.gay` or\n",
    "`www.obscenely.gay` as a referrer. Another 4 or 1% of page views use variations\n",
    "of the name that point towards some form of security probe. Arguably, they\n",
    "should count as bot traffic, too.\n",
    "\n",
    "Oh. And: At 35% of page views, Google matters as a traffic source. A lot.\n",
    "\n",
    "Let's check *Game of Thrones, US Edition*:"
   ]
  },
  {
   "cell_type": "code",
   "execution_count": 7,
   "metadata": {},
   "outputs": [
    {
     "name": "stdout",
     "output_type": "stream",
     "text": [
      "deface.info          226\n",
      "www.google.com       202\n",
      "apparebit.com         67\n",
      "info.all-url.info     18\n",
      "www.deface.info       17\n",
      "baidu.com              5\n",
      "fbkwriter.com          2\n",
      "www.bing.com           1\n",
      "www.apparebit.com      1\n"
     ]
    },
    {
     "data": {
      "text/plain": [
       "<analog.analyzer._FluentDisplay at 0x10544feb0>"
      ]
     },
     "execution_count": 7,
     "metadata": {},
     "output_type": "execute_result"
    }
   ],
   "source": [
    "game_of_thrones = (\n",
    "    page_views\n",
    "    .over.last_year()\n",
    "    .only.equals('cool_path', '/blog/2021/game-of-thrones')\n",
    ")\n",
    "\n",
    "assert game_of_thrones.requests() == 1765\n",
    "\n",
    "game_of_thrones.value_counts('referrer_host').then_print()"
   ]
  },
  {
   "cell_type": "markdown",
   "metadata": {},
   "source": [
    "Hmm, that's different: A whopping 69% of last year's page views for *Game of\n",
    "Thrones* omit the referrer. 14% do include `deface.info` or `www.deface.info` as\n",
    "a referrer. And only 11% stem from Google, which doesn't matter as much for this\n",
    "page.\n",
    "\n",
    "Overall, the lack of referrers makes it impossible to prove the\n",
    "domain-as-content-booster hypothesis. At the same time, nothing in the data\n",
    "contradicts it either. Hence, I'm inclined to believe that the hypothesis holds.\n",
    "That has actionable consequences.\n",
    "\n",
    "> Always make sure that `obscenely.gay` points to my gayest page and\n",
    "> `deface.info` to the page most damning about Facebook!\n",
    "\n",
    "As of this writing, the latter would be [Wrong\n",
    "Impression](https://apparebit.com/blog/2022/wrong-impression), which presents\n",
    "compelling evidence that Facebook is cooking the books and hence misrepresenting\n",
    "its business to paying customers, investors, and regulators. I've updated\n",
    "`deface.info` accordingly."
   ]
  },
  {
   "cell_type": "markdown",
   "metadata": {},
   "source": [
    "## Aside: The Benefits of Wrapping Pandas\n",
    "\n",
    "Analog's wrapping of Pandas dataframes has three benefits:\n",
    "\n",
    "  * A simpler and hence more usable domain-specific interface;\n",
    "  * A more coherent interface that hides inconsistencies in Pandas interface;\n",
    "  * A more flexible interface that enables new features.\n",
    "\n",
    "First, Pandas exposes a powerful and flexible interface and often supports\n",
    "several options for getting the same task done. That's not surprising given the\n",
    "project's maturity — it started over 14 years ago — and its widespread use. But\n",
    "that also gets in the way of beginning and casual users. In contrast, the very\n",
    "simplicity of analog's domain-specific interface provides more guardrails for\n",
    "just those users.\n",
    "\n",
    "Second, Analog's wrappers also expose a more coherent interface where Pandas\n",
    "requires distinct methods for achieving nominally similar results. Notably,\n",
    "Pandas does not support `value_counts()` for grouped data and, as far as I can\n",
    "tell, requires an altogether [more convoluted\n",
    "calculation](https://github.com/apparebit/analog/blob/357f6d921b3eb5f37b799ccc55f9892d6077dc16/analog/analyzer.py#L143)\n",
    "that first creates a multi-index over year, month, and value-counted column,\n",
    "then unstacks the innermost index, and finally restores the original date range.\n",
    "In contrast, analog hides those implementation differences, supporting\n",
    "`monthly.value_counts(\"status_class\")` as much as\n",
    "`over.last_month().value_counts(\"status_class\")`.\n",
    "\n",
    "Alas, those results do differ in resulting datatype:\n",
    "\n",
    "  * When counting requests for a time range, such as the entire log via\n",
    "    `.requests()`, the result is an *integer*.\n",
    "  * When calculating value counts for a time range like the above\n",
    "    `.over.last_month().value_counts(\"status_class\")`, the result is a *series*.\n",
    "  * When calculating monthly request counts via `.monthly.requests()`, the result\n",
    "    is a *series*.\n",
    "  * When calculating monthly value counts, say,\n",
    "    `monthly.value_counts(\"status_class\")`, the result is a *dataframe*.\n",
    "\n",
    "In the first case, analog is done wrapping and just returns the integer value.\n",
    "In the other three cases, analog keeps on wrapping and subsequent display\n",
    "clauses, i.e., `then_print()` and `then_plot()`, apply to series and dataframes\n",
    "alike.\n",
    "\n",
    "Finally, analog's wrappers facilitate the addition of new features. For example,\n",
    "the implementation started out as eagerly applying filters and hence created a\n",
    "new dataframe for every filter expression. That seems a recipe for out-of-memory\n",
    "errors with large logs and hence I switched to lazily evaluating filters. That\n",
    "required almost no changes in the public filter methods and instead was largely\n",
    "constricted to `FluentTerm `'s `data` property and `filter()` helper method\n",
    "implementations."
   ]
  },
  {
   "cell_type": "markdown",
   "metadata": {},
   "source": [
    "## Status Codes\n",
    "\n",
    "So far, we only looked at successful GET requests for markup made by humans.\n",
    "It's time to consider the full range of requests, starting with status codes.\n",
    "\n",
    "\n",
    "### Four Kinds of Monthly Status Codes\n",
    "\n",
    "Since tracking each individual status code would result in information overload,\n",
    "we instead build on the derived `status_class` column. It categorizes individual\n",
    "status codes into successful, redirection, client error, and server error. While\n",
    "certainly coarser, this categorization seems important enough for analog to\n",
    "simplify `value_counts(\"status_class\")` to `status_classes()`.\n",
    "\n",
    "While we are at it, we might as well produce a different graph by providing\n",
    "additional keyword arguments to `then_plot()`, which just passes them on to\n",
    "Pandas' `plot()` method."
   ]
  },
  {
   "cell_type": "code",
   "execution_count": 8,
   "metadata": {},
   "outputs": [
    {
     "data": {
      "text/plain": [
       "<analog.analyzer._FluentDisplay at 0x1221022c0>"
      ]
     },
     "execution_count": 8,
     "metadata": {},
     "output_type": "execute_result"
    },
    {
     "data": {
      "image/png": "[encoded data removed]",
      "text/plain": [
       "<Figure size 792x504 with 1 Axes>"
      ]
     },
     "metadata": {
      "needs_background": "light"
     },
     "output_type": "display_data"
    }
   ],
   "source": [
    "(\n",
    "    analyze(df)\n",
    "    .monthly.status_classes()\n",
    "    .then_plot(kind='bar', stacked=True, width=0.8, figsize=(11,7))\n",
    ")"
   ]
  },
  {
   "cell_type": "markdown",
   "metadata": {},
   "source": [
    "Sweet! That's one neat looking graph. Admittedly, it took a little futzing with\n",
    "plot size and column `width` because the defaults produced too small a plot with\n",
    "too much space between columns."
   ]
  },
  {
   "cell_type": "markdown",
   "metadata": {},
   "source": [
    "### Top 10 Paths Resulting in Server Errors\n",
    "\n",
    "Alas, the presence of server errors in the graph does suggest that my hosting\n",
    "provider's (shared) server went through a pretty long-lasting rough patch from\n",
    "November 2021 through April 2022 — with a few more server errors in June 2021,\n",
    "July 2021, and June 2022. That's no good. But before calling my hosting\n",
    "provider's customer service, it would be good to find out a little more about\n",
    "those server errors."
   ]
  },
  {
   "cell_type": "code",
   "execution_count": 10,
   "metadata": {},
   "outputs": [
    {
     "name": "stdout",
     "output_type": "stream",
     "text": [
      "/blog/2021/game-of-thrones/wp1/wp-includes/wlw...    156\n",
      "/blog/2021/game-of-thrones/wp/wp-includes/wlwm...    156\n",
      "/blog/2021/game-of-thrones/wordpress/wp-includ...    156\n",
      "/blog/2021/game-of-thrones/web/wp-includes/wlw...    156\n",
      "/blog/2021/game-of-thrones/cms/wp-includes/wlw...    156\n",
      "/blog/2021/game-of-thrones/test/wp-includes/wl...    156\n",
      "/blog/2021/game-of-thrones/site/wp-includes/wl...    156\n",
      "/blog/2021/game-of-thrones/blog/wp-includes/wl...    151\n",
      "/blog/2021/game-of-thrones/shop/wp-includes/wl...    149\n",
      "/blog/2021/game-of-thrones/2019/wp-includes/wl...    149\n",
      "/blog/2021/game-of-thrones/website/wp-includes...    147\n",
      "/blog/2021/game-of-thrones/sito/wp-includes/wl...    147\n",
      "/blog/2021/game-of-thrones/wp2/wp-includes/wlw...    147\n",
      "/blog/2021/game-of-thrones/news/wp-includes/wl...    147\n",
      "/blog/2021/game-of-thrones/wp-includes/wlwmani...    143\n",
      "/blog/2021/game-of-thrones/2020/wp-includes/wl...     80\n",
      "/blog/2021/game-of-thrones/2018/wp-includes/wl...     69\n",
      "/blog/2021/game-of-thrones/media/wp-includes/w...     69\n",
      "/index/index/andiro                                    9\n",
      "/blog/2021/game-of-thrones/2021/wp-includes/wl...      9\n",
      "Name: path, dtype: Int64\n"
     ]
    },
    {
     "data": {
      "text/plain": [
       "<analog.analyzer._FluentDisplay at 0x134d854e0>"
      ]
     },
     "execution_count": 10,
     "metadata": {},
     "output_type": "execute_result"
    },
    {
     "data": {
      "image/png": "[encoded data removed]",
      "text/plain": [
       "<Figure size 432x288 with 1 Axes>"
      ]
     },
     "metadata": {
      "needs_background": "light"
     },
     "output_type": "display_data"
    }
   ],
   "source": [
    "from analog.month_in_year import time_range\n",
    "\n",
    "server_errors = (\n",
    "    analyze(df)\n",
    "    .only.server_error()\n",
    "    .over.range(*time_range('2021-06', '2022-06'))\n",
    ")\n",
    "\n",
    "server_errors.monthly.requests().then_plot(kind='bar')\n",
    "server_errors.value_counts('path').then_print(10)"
   ]
  },
  {
   "cell_type": "markdown",
   "metadata": {},
   "source": [
    "### Top 10 Paths That Were Not Found During Last Year\n",
    "\n",
    "As far as the far more prevalent client errors, let's find out more about them.\n",
    "In particular, we are interested in 404 Not Found errors, since they may help\n",
    "identify other websites using outdated links."
   ]
  },
  {
   "cell_type": "code",
   "execution_count": 11,
   "metadata": {},
   "outputs": [
    {
     "name": "stdout",
     "output_type": "stream",
     "text": [
      "/favicon.ico                               673\n",
      "/ads.txt                                   563\n",
      "/th1s_1s_a_4o4.html                        358\n",
      "//cms/wp-includes/wlwmanifest.xml          306\n",
      "//site/wp-includes/wlwmanifest.xml         306\n",
      "//test/wp-includes/wlwmanifest.xml         306\n",
      "//wp1/wp-includes/wlwmanifest.xml          306\n",
      "//wordpress/wp-includes/wlwmanifest.xml    303\n",
      "//wp/wp-includes/wlwmanifest.xml           302\n",
      "//web/wp-includes/wlwmanifest.xml          300\n",
      "Name: path, dtype: Int64\n"
     ]
    },
    {
     "data": {
      "text/plain": [
       "<analog.analyzer._FluentDisplay at 0x134f23ee0>"
      ]
     },
     "execution_count": 11,
     "metadata": {},
     "output_type": "execute_result"
    }
   ],
   "source": [
    "(\n",
    "    analyze(df)\n",
    "    .only.not_found()\n",
    "    .over.last_year()\n",
    "    .value_counts(\"path\")\n",
    "    .then_print(10)\n",
    ")"
   ]
  },
  {
   "cell_type": "markdown",
   "metadata": {},
   "source": [
    "### Robot Client Errors Per Month\n",
    "\n",
    "We would expect that robots know what they are looking for and hence have a much\n",
    "smaller error rate than human traffic. Let's check that hypothesis."
   ]
  },
  {
   "cell_type": "code",
   "execution_count": 12,
   "metadata": {},
   "outputs": [
    {
     "data": {
      "text/plain": [
       "<analog.analyzer._FluentDisplay at 0x135056830>"
      ]
     },
     "execution_count": 12,
     "metadata": {},
     "output_type": "execute_result"
    },
    {
     "data": {
      "image/png": "[encoded data removed]",
      "text/plain": [
       "<Figure size 432x288 with 1 Axes>"
      ]
     },
     "metadata": {
      "needs_background": "light"
     },
     "output_type": "display_data"
    }
   ],
   "source": [
    "analog = analyze(df)\n",
    "\n",
    "# Each phrase has its own dataframe. So we can reuse previously computed phrases.\n",
    "bot_traffic = analog.only.bots()\n",
    "bot_errors = bot_traffic.only.client_error()\n",
    "traffic = analog\n",
    "client_errors = traffic.only.client_error()\n",
    "\n",
    "# Finish each series.\n",
    "labels = [\"requests\", \"client_errors\", \"bot_traffic\", \"bot_errors\"]\n",
    "series = [traffic, client_errors, bot_traffic, bot_errors]\n",
    "requests = merge({n: s.monthly.requests() for n, s in zip(labels, series)})\n",
    "requests.as_is.then_plot()"
   ]
  }
 ],
 "metadata": {
  "kernelspec": {
   "display_name": "Python 3.10.4 64-bit ('analog')",
   "language": "python",
   "name": "python3"
  },
  "language_info": {
   "codemirror_mode": {
    "name": "ipython",
    "version": 3
   },
   "file_extension": ".py",
   "mimetype": "text/x-python",
   "name": "python",
   "nbconvert_exporter": "python",
   "pygments_lexer": "ipython3",
   "version": "3.10.4"
  },
  "orig_nbformat": 4,
  "vscode": {
   "interpreter": {
    "hash": "684819bc11b2f355dfdb0aa85b06decc1669fdd2b5a19c8292194a678ef9d7fa"
   }
  }
 },
 "nbformat": 4,
 "nbformat_minor": 2
}
